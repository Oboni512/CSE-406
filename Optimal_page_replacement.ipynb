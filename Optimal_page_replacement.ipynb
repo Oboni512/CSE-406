{
  "nbformat": 4,
  "nbformat_minor": 0,
  "metadata": {
    "colab": {
      "provenance": []
    },
    "kernelspec": {
      "name": "python3",
      "display_name": "Python 3"
    },
    "language_info": {
      "name": "python"
    }
  },
  "cells": [
    {
      "cell_type": "code",
      "execution_count": 1,
      "metadata": {
        "colab": {
          "base_uri": "https://localhost:8080/"
        },
        "id": "O2PjZFeNA8Xs",
        "outputId": "77fed557-6409-4e48-f611-3aa92d4ddb2d"
      },
      "outputs": [
        {
          "output_type": "stream",
          "name": "stdout",
          "text": [
            "Total Hits: 7\n",
            "Total Misses: 6\n"
          ]
        }
      ],
      "source": [
        "# Function to check if the page is already in the frame\n",
        "def is_in_frame(page, frame):\n",
        "    return page in frame\n",
        "\n",
        "# Function to decide which page to replace\n",
        "def find_page_to_replace(pages, frame, current_index):\n",
        "    farthest_index = current_index\n",
        "    replace_index = -1\n",
        "\n",
        "    for i in range(len(frame)):\n",
        "        found = False\n",
        "        for j in range(current_index, len(pages)):\n",
        "            if frame[i] == pages[j]:\n",
        "                if j > farthest_index:\n",
        "                    farthest_index = j\n",
        "                    replace_index = i\n",
        "                found = True\n",
        "                break\n",
        "        if not found:\n",
        "            return i  # Page not used again\n",
        "    return 0 if replace_index == -1 else replace_index\n",
        "\n",
        "# Main function for Optimal Page Replacement\n",
        "def optimal_page_replacement(pages, frame_size):\n",
        "    frame = []\n",
        "    hits = 0\n",
        "    misses = 0\n",
        "\n",
        "    for i in range(len(pages)):\n",
        "        page = pages[i]\n",
        "\n",
        "        if is_in_frame(page, frame):\n",
        "            hits += 1\n",
        "        else:\n",
        "            misses += 1\n",
        "            if len(frame) < frame_size:\n",
        "                frame.append(page)\n",
        "            else:\n",
        "                index_to_replace = find_page_to_replace(pages, frame, i + 1)\n",
        "                frame[index_to_replace] = page\n",
        "\n",
        "    print(\"Total Hits:\", hits)\n",
        "    print(\"Total Misses:\", misses)\n",
        "\n",
        "# Example usage\n",
        "pages = [7, 0, 1, 2, 0, 3, 0, 4, 2, 3, 0, 3, 2]\n",
        "frame_size = 4\n",
        "optimal_page_replacement(pages, frame_size)\n"
      ]
    }
  ]
}