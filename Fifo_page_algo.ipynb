{
  "nbformat": 4,
  "nbformat_minor": 0,
  "metadata": {
    "colab": {
      "provenance": []
    },
    "kernelspec": {
      "name": "python3",
      "display_name": "Python 3"
    },
    "language_info": {
      "name": "python"
    }
  },
  "cells": [
    {
      "cell_type": "code",
      "execution_count": null,
      "metadata": {
        "colab": {
          "base_uri": "https://localhost:8080/"
        },
        "id": "CbRe7GPDHkX3",
        "outputId": "aa37c058-082e-4604-a8fe-18c2e5f6ce28"
      },
      "outputs": [
        {
          "output_type": "stream",
          "name": "stdout",
          "text": [
            "6\n"
          ]
        }
      ],
      "source": [
        "\n",
        "from queue import Queue\n",
        "\n",
        "# Function to find page faults using FIFO\n",
        "def pageFaults(pages, n, capacity):\n",
        "\n",
        "\n",
        "\ts = set()\n",
        "\n",
        "\t# To store the pages in FIFO manner\n",
        "\tindexes = Queue()\n",
        "\n",
        "\t# Start from initial page\n",
        "\tpage_faults = 0\n",
        "\tfor i in range(n):\n",
        "\n",
        "\t\t# Check if the set can hold\n",
        "\t\t# more pages\n",
        "\t\tif (len(s) < capacity):\n",
        "\n",
        "\n",
        "\t\t\tif (pages[i] not in s):\n",
        "\t\t\t\ts.add(pages[i])\n",
        "\n",
        "\t\t\t\t# increment page fault\n",
        "\t\t\t\tpage_faults += 1\n",
        "\n",
        "\n",
        "\t\t\t\tindexes.put(pages[i])\n",
        "\n",
        "\t\telse:\n",
        "\n",
        "\n",
        "\t\t\tif (pages[i] not in s):\n",
        "\n",
        "\t\t\t\t# Pop the first page from the queue\n",
        "\t\t\t\tval = indexes.queue[0]\n",
        "\n",
        "\t\t\t\tindexes.get()\n",
        "\n",
        "\t\t\t\t# Remove the indexes page\n",
        "\t\t\t\ts.remove(val)\n",
        "\n",
        "\t\t\t\t# insert the current page\n",
        "\t\t\t\ts.add(pages[i])\n",
        "\n",
        "\n",
        "\t\t\t\tindexes.put(pages[i])\n",
        "\n",
        "\n",
        "\t\t\t\tpage_faults += 1\n",
        "\n",
        "\treturn page_faults\n",
        "\n",
        "# Driver code\n",
        "if __name__ == '__main__':\n",
        "\tpages = [1,3,0,3,5,6,3]\n",
        "\tn = len(pages)\n",
        "\tcapacity = 3\n",
        "\tprint(pageFaults(pages, n, capacity))\n",
        "\n",
        "\n"
      ]
    }
  ]
}